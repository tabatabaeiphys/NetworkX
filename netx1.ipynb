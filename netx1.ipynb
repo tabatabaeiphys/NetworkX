{
 "cells": [
  {
   "cell_type": "markdown",
   "id": "94f21b0d",
   "metadata": {},
   "source": [
    "# 🚀 NetworkX Workshop\n",
    "## Session 1\n",
    "### Special thanks to Mr. Yahya Hematyar Tabatabaei, whose insightful NetworkX workshop inspired and guided the creation of this notebook\n",
    "\n",
    "# 🧠 Welcome to the NetworkX Workshop!\n",
    "\n",
    "This notebook is read-only.\n",
    "\n",
    "👉 To work on it, click `File → Save a copy in Drive`.  \n",
    "This will create your own editable version in Google Drive.\n",
    "\n",
    "Happy coding! 🚀\n",
    "\n",
    "[![Open In Colab](https://colab.research.google.com/assets/colab-badge.svg)](https://colab.research.google.com/github/tabatabaeiphys/NetworkX/blob/main/netx1.ipynb)\n",
    "\n"
   ]
  },
  {
   "cell_type": "markdown",
   "id": "3abe3aa3-34ae-425f-94c8-7bd5057a681b",
   "metadata": {},
   "source": [
    "\n",
    "\n",
    "This tutorial will cover:\n",
    "- Creating graphs in NetworkX\n",
    "- Working with weighted and directed graphs\n",
    "- Using edge and node attributes\n",
    "- MultiGraphs and Bipartite graphs\n",
    "- adjacency matrix and clustering coefficient\n"
   ]
  },
  {
   "cell_type": "markdown",
   "id": "098fda81-694b-4882-86d2-d0f3865840ce",
   "metadata": {},
   "source": [
    "## importing needed libraries"
   ]
  },
  {
   "cell_type": "code",
   "execution_count": 2,
   "id": "254c9acc-b010-4fd4-90b2-1188afcf0f9d",
   "metadata": {},
   "outputs": [],
   "source": [
    "import networkx as nx\n",
    "import matplotlib.pyplot as plt\n",
    "import numpy as np"
   ]
  },
  {
   "cell_type": "markdown",
   "id": "95aef86c-6719-411a-9c0f-233f2c0488f2",
   "metadata": {},
   "source": [
    "### Creating Graphs\n",
    "\n",
    "You can create undirected and directed graphs using NetworkX. Here's how to add nodes and edges.\n"
   ]
  },
  {
   "cell_type": "code",
   "execution_count": null,
   "id": "dd3d8751-1446-4160-b1fb-2b0b57d41bb5",
   "metadata": {},
   "outputs": [],
   "source": [
    "G = nx.Graph()\n",
    "G.add_edge('A', 'B')\n",
    "G.add_edge('C', 'B')\n",
    "\n",
    "\n",
    "nx.draw(G, with_labels=True)\n",
    "plt.show()\n"
   ]
  },
  {
   "cell_type": "code",
   "execution_count": null,
   "id": "87d398ec",
   "metadata": {},
   "outputs": [],
   "source": [
    "\n",
    "G = nx.DiGraph()\n",
    "G.add_edge('B', 'A')\n",
    "G.add_edge('B', 'C')\n",
    "\n",
    "nx.draw(G, with_labels=True, node_color='lightblue', node_size=2000, font_size=16, arrows=True)\n",
    "plt.title('Directed Graph')\n",
    "plt.show()\n",
    "\n"
   ]
  },
  {
   "cell_type": "markdown",
   "id": "cbedc29a-03b9-4238-b41f-ffea5fed9104",
   "metadata": {},
   "source": [
    "### Weighted Networks\n",
    "\n",
    "NetworkX allows adding weights and signs to edges to represent relationships such as distances or capacities.\n"
   ]
  },
  {
   "cell_type": "code",
   "execution_count": null,
   "id": "7b7799ea-8bf5-4434-a864-dec3696730c0",
   "metadata": {},
   "outputs": [],
   "source": [
    "G = nx.Graph()\n",
    "G.add_edge('A', 'B', weight=6)\n",
    "G.add_edge('C', 'B', weight=13)\n",
    "\n",
    "pos = nx.spring_layout(G)\n",
    "nx.draw(G, pos, with_labels=True)\n",
    "labels = nx.get_edge_attributes(G, 'weight')\n",
    "nx.draw_networkx_edge_labels(G, pos, edge_labels=labels)\n",
    "plt.show()\n"
   ]
  },
  {
   "cell_type": "code",
   "execution_count": null,
   "id": "1b325615-faf9-4464-a898-dc2026e3c838",
   "metadata": {},
   "outputs": [],
   "source": [
    "G = nx.Graph()\n",
    "G.add_edge('A', 'B', sign=\"+\")   \n",
    "G.add_edge('C', 'B', sign=\"-\")   \n",
    "\n",
    "\n",
    "pos = nx.spring_layout(G)\n",
    "\n",
    "\n",
    "nx.draw(G, pos, with_labels=True)\n",
    "\n",
    "\n",
    "signs = nx.get_edge_attributes(G, 'sign')\n",
    "\n",
    "edge_labels = {}\n",
    "for edge, sign in signs.items():\n",
    "    edge_labels[edge] = sign\n",
    "\n",
    "nx.draw(G, pos, width=2)\n",
    "\n",
    "nx.draw_networkx_edge_labels(G, pos, edge_labels=edge_labels)\n",
    "\n",
    "plt.show()\n"
   ]
  },
  {
   "cell_type": "markdown",
   "id": "6c1bd273",
   "metadata": {},
   "source": [
    "### make an example for yourself from above topics"
   ]
  },
  {
   "cell_type": "code",
   "execution_count": null,
   "id": "58886ecd",
   "metadata": {},
   "outputs": [],
   "source": []
  },
  {
   "cell_type": "markdown",
   "id": "f719e723-6622-4123-aeac-37444132491f",
   "metadata": {},
   "source": [
    "### Node and Edge Attributes\n",
    "\n",
    "Nodes and edges can have additional attributes, such as roles or relationships.\n"
   ]
  },
  {
   "cell_type": "code",
   "execution_count": null,
   "id": "624b59fb-2e2f-4d02-8b15-0ad5a5c383f7",
   "metadata": {},
   "outputs": [],
   "source": [
    "G = nx.Graph()\n",
    "G.add_node('A', role='Trader')\n",
    "G.add_node('C', role='Manager')\n",
    "G.add_edge('A', 'B', relation='Family', weight=6)\n",
    "\n",
    "print(G.nodes(data=True))\n",
    "\n",
    "print(G.edges(data=True))"
   ]
  },
  {
   "cell_type": "markdown",
   "id": "153771f6",
   "metadata": {},
   "source": [
    "### let say a person's role in life is to be happy, he is every body's friend but not deeply. choose the weight by yourself and add it to the network above"
   ]
  },
  {
   "cell_type": "code",
   "execution_count": null,
   "id": "ee27f79d-7cb5-4cae-9290-f025cba4fe74",
   "metadata": {},
   "outputs": [],
   "source": [
    "from matplotlib.lines import Line2D\n",
    "\n",
    "G = nx.Graph()\n",
    "G.add_edge('A', 'B', relation='Friend', weight=18)\n",
    "G.add_edge('B', 'C', relation='Coworker', weight=21)\n",
    "G.add_edge('C', 'D', relation='Family', weight=25)\n",
    "G.add_edge('C', 'E', relation='Neighbor', weight=10)\n",
    "G.add_edge('E', 'D', relation='Friend', weight=2)\n",
    "G.add_edge('E', 'F', relation='Coworker', weight=10)\n",
    "G.add_edge('F', 'G', relation='Friend', weight=9)\n",
    "G.add_edge('I', 'E', relation='Family', weight=10)\n",
    "G.add_edge('H', 'E', relation='Coworker', weight=15)\n",
    "G.add_edge('I', 'J', relation='Neighbor', weight=3)\n",
    "G.add_edge('J', 'H', relation='Friend', weight=3)\n",
    "\n",
    "node_roles = {'A': 'Trader', 'B': 'Trader', 'C': 'Manager', 'D': 'Analyst', 'E': 'Manager', \n",
    "              'F': 'Trader', 'G': 'Trader', 'H': 'Trader', 'I': 'Analyst', 'J': 'Analyst'}\n",
    "\n",
    "role_colors = {'Manager': 'red', 'Trader': 'green', 'Analyst': 'yellow'}\n",
    "node_colors = [role_colors[node_roles[node]] for node in G.nodes]\n",
    "\n",
    "relation_colors = {'Family': 'brown', 'Friend': 'blue', 'Coworker': 'red', 'Neighbor': 'purple'}\n",
    "edge_colors = [relation_colors[G[u][v]['relation']] for u, v in G.edges()]\n",
    "\n",
    "pos = nx.spring_layout(G)\n",
    "\n",
    "nx.draw(G, pos, with_labels=True, node_color=node_colors, node_size=500, font_color='white')\n",
    "\n",
    "nx.draw_networkx_edges(G, pos, edge_color=edge_colors, width=2)\n",
    "\n",
    "edge_labels = {(u, v): (G[u][v]['weight']) for u, v in G.edges()}\n",
    "nx.draw_networkx_edge_labels(G, pos, edge_labels=edge_labels, font_color='black', font_size=6)\n",
    "\n",
    "legend_elements_edges = [\n",
    "    Line2D([0], [0], color='brown', lw=2, label='Family'),\n",
    "    Line2D([0], [0], color='blue', lw=2, label='Friend'),\n",
    "    Line2D([0], [0], color='red', lw=2, label='Coworker'),\n",
    "    Line2D([0], [0], color='purple', lw=2, label='Neighbor')\n",
    "]\n",
    "\n",
    "legend_elements_nodes = [\n",
    "    Line2D([0], [0], marker='o', color='w', markerfacecolor='red', markersize=10, label='Manager'),\n",
    "    Line2D([0], [0], marker='o', color='w', markerfacecolor='green', markersize=10, label='Trader'),\n",
    "    Line2D([0], [0], marker='o', color='w', markerfacecolor='yellow', markersize=10, label='Analyst')\n",
    "]\n",
    "\n",
    "plt.legend(handles=legend_elements_edges + legend_elements_nodes, loc='best')\n",
    "\n",
    "plt.show()\n"
   ]
  },
  {
   "cell_type": "markdown",
   "id": "e808d763-d7a9-48fe-88b8-472ecfeec424",
   "metadata": {},
   "source": [
    "### MultiGraphs\n",
    "\n",
    "A `MultiGraph` allows multiple edges between two nodes, each with its own attributes.\n"
   ]
  },
  {
   "cell_type": "code",
   "execution_count": null,
   "id": "1f5f0aba-90a0-4135-af2a-b974e97d221b",
   "metadata": {},
   "outputs": [],
   "source": [
    "\n",
    "G = nx.MultiGraph()\n",
    "\n",
    "G.add_edge('A', 'B', relation='Family', weight=6)\n",
    "G.add_edge('A', 'B', relation='Coworker', weight=4) \n",
    "\n",
    "G.add_edge('A', 'C', relation='Friend', weight=13)\n",
    "G.add_edge('B', 'C', relation='Coworker', weight=21)\n",
    "G.add_edge('C', 'D', relation='Family', weight=25)\n",
    "G.add_edge('C', 'E', relation='Neighbor', weight=10)\n",
    "G.add_edge('E', 'D', relation='Friend', weight=2)\n",
    "\n",
    "G.add_edge('E', 'F', relation='Coworker', weight=10)\n",
    "G.add_edge('E', 'F', relation='Neighbor', weight=5)  \n",
    "\n",
    "G.add_edge('F', 'G', relation='Friend', weight=9)\n",
    "G.add_edge('F', 'G', relation='Family', weight=7)  \n",
    "\n",
    "G.add_edge('I', 'E', relation='Family', weight=10)\n",
    "G.add_edge('H', 'E', relation='Coworker', weight=15)\n",
    "G.add_edge('I', 'J', relation='Neighbor', weight=3)\n",
    "G.add_edge('J', 'H', relation='Friend', weight=3)\n",
    "\n",
    "relation_colors = {'Family': 'brown', 'Friend': 'blue', 'Coworker': 'red', 'Neighbor': 'purple'}\n",
    "\n",
    "edge_colors = []\n",
    "edge_labels = {}\n",
    "\n",
    "for u, v, key in G.edges(keys=True):\n",
    "    relation = G[u][v][key]['relation']\n",
    "    weight = G[u][v][key]['weight']\n",
    "    \n",
    "    edge_colors.append(relation_colors[relation])  \n",
    "    edge_labels[(u, v, key)] = weight  \n",
    "\n",
    "pos = nx.spring_layout(G)\n",
    "\n",
    "nx.draw(G, pos, with_labels=True, node_color='lightgreen', node_size=1500, font_size=12)\n",
    "\n",
    "for u, v, key in G.edges(keys=True):\n",
    "    relation = G[u][v][key]['relation']\n",
    "    color = relation_colors[relation]\n",
    "    nx.draw_networkx_edges(G, pos, edgelist=[(u, v)], width=2, edge_color=color,\n",
    "                           connectionstyle=f'arc3,rad={(0.1 * key)}') \n",
    "\n",
    "nx.draw_networkx_edge_labels(G, pos, edge_labels={(u, v): f\"{G[u][v][key]['weight']}\" \n",
    "                                                 for u, v, key in G.edges(keys=True)}, font_color='black')\n",
    "\n",
    "legend_elements = [\n",
    "    Line2D([0], [0], color='brown', lw=2, label='Family'),\n",
    "    Line2D([0], [0], color='blue', lw=2, label='Friend'),\n",
    "    Line2D([0], [0], color='red', lw=2, label='Coworker'),\n",
    "    Line2D([0], [0], color='purple', lw=2, label='Neighbor')\n",
    "]\n",
    "\n",
    "plt.legend(handles=legend_elements, loc='best')\n",
    "\n",
    "plt.show()\n"
   ]
  },
  {
   "cell_type": "markdown",
   "id": "50538c45-2833-4fea-9869-cf55767da22a",
   "metadata": {},
   "source": [
    "### Bipartite Graphs\n",
    "\n",
    "A bipartite graph contains two sets of nodes, with edges only between nodes of different sets.\n"
   ]
  },
  {
   "cell_type": "markdown",
   "id": "7af3e410-23c5-41aa-86ba-09d5a12068a1",
   "metadata": {},
   "source": [
    "# Checking if a Network is Bipartite\n",
    "\n",
    "A **bipartite graph** is a graph whose vertices can be divided into two disjoint sets, say $U$ and $V$, such that every edge connects a vertex in $U$ to a vertex in $V$. In simpler terms, there are no edges between vertices within the same set. This can be verified by using the **coloring method** or by **searching for odd cycles**.\n",
    "\n"
   ]
  },
  {
   "cell_type": "markdown",
   "id": "b479dc15-f78b-4127-887e-373c371745f4",
   "metadata": {},
   "source": [
    "![Network Diagram](d.png)\n"
   ]
  },
  {
   "cell_type": "markdown",
   "id": "47bb4d92-791b-4360-93ac-6a43f4745f13",
   "metadata": {},
   "source": [
    "\n",
    "## 1. Coloring Method\n",
    "\n",
    "The **coloring method** involves attempting to color the graph's nodes using two different colors. Here's how it works:\n",
    "\n",
    "- Start with any unvisited node and assign it a color, say \"color 1\".\n",
    "- Assign the neighboring nodes the opposite color, say \"color 2\".\n",
    "- Continue this process for all nodes, coloring each node with the color opposite to its neighbors.\n",
    "- If at any point, two adjacent nodes are assigned the same color, then the graph is **not bipartite**.\n",
    "\n",
    "### Example:\n",
    "\n",
    "Consider the following steps for the coloring method:\n",
    "- Start with node $A$ and color it with \"color 1\".\n",
    "- Color all neighbors of $A$ (nodes connected directly to $A$) with \"color 2\".\n",
    "- Then, color all the neighbors of these nodes with \"color 1\", and so on.\n",
    "  \n",
    "If no two adjacent nodes have the same color, the graph is bipartite.\n",
    "\n",
    "However, if a node is connected to another node with the same color (i.e., two adjacent nodes have the same color), the graph is not bipartite.\n",
    "\n"
   ]
  },
  {
   "cell_type": "code",
   "execution_count": 20,
   "id": "1842a3d9-aa12-46c9-b1c8-4a8a26d0feaa",
   "metadata": {
    "scrolled": true
   },
   "outputs": [
    {
     "data": {
      "image/png": "[encoded data removed]",
      "text/plain": [
       "<Figure size 640x480 with 1 Axes>"
      ]
     },
     "metadata": {},
     "output_type": "display_data"
    }
   ],
   "source": [
    "from networkx.algorithms import bipartite\n",
    "# Create a bipartite graph\n",
    "\n",
    "B = nx.Graph()\n",
    "B.add_edges_from([('A', '1'), ('A', '2'), ('B', '1'), ('B', '3'), ('C', '2'), ('C', '4'), ('D', '3'), ('D', '4')])\n",
    "\n",
    "# Get bipartite sets\n",
    "X, Y = bipartite.sets(B)\n",
    "\n",
    "# Color nodes based on their bipartite set\n",
    "color_map = []\n",
    "for node in B:\n",
    "    if node in X:\n",
    "        color_map.append('blue')\n",
    "    else:\n",
    "        color_map.append('red')\n",
    "\n",
    "# Draw the graph\n",
    "pos = nx.spring_layout(B)\n",
    "plt.figure(dpi=100)\n",
    "nx.draw(B,pos, with_labels=True, node_color=color_map, node_size=1500, edge_color='gray', font_size=15)\n",
    "plt.show()\n"
   ]
  },
  {
   "cell_type": "markdown",
   "id": "55514ba7-73a1-41ac-9e6d-5e729d0c8a96",
   "metadata": {},
   "source": [
    "![Network Diagram](bi2.png)\n"
   ]
  },
  {
   "cell_type": "markdown",
   "id": "ff90da3f-98f4-48cd-9a37-ba7dcb9aa2f3",
   "metadata": {},
   "source": [
    "## 2. Searching for Odd Cycles\n",
    "\n",
    "A graph is bipartite **if and only if** it contains **no odd-length cycles**. Here's why:\n",
    "\n",
    "- In a bipartite graph, any cycle must alternate between the two sets of nodes. Thus, it must have an even number of edges (even-length cycle).\n",
    "- If there is an odd-length cycle, then the graph cannot be bipartite because such a cycle would force you to assign two adjacent nodes the same color.\n",
    "\n",
    "### Steps to Check for Odd Cycles:\n",
    "1. Choose any node and start a **breadth-first search (BFS)** or **depth-first search (DFS)** of the graph.\n",
    "2. As you traverse the graph, alternate the color of each node.\n",
    "3. If you find an edge connecting two nodes of the same color, then the graph contains an odd-length cycle, and hence, it is **not bipartite**.\n",
    "4. If the search completes without such a conflict, the graph is bipartite.\n",
    "\n",
    "### Example:\n",
    "\n",
    "Suppose you encounter a cycle with three nodes: $A \\rightarrow B \\rightarrow C \\rightarrow A$. This is an **odd-length cycle** (3 edges), which means the graph cannot be bipartite.\n",
    "\n",
    "### Summary:\n",
    "\n",
    "- **Bipartite Graph:** No odd-length cycles, possible to color using two colors.\n",
    "- **Non-Bipartite Graph:** Presence of odd-length cycles, impossible to color using two colors.\n",
    "\n",
    "By using either the **coloring method** or **searching for odd cycles**, you can efficiently determine whether a given network is bipartite or not.\n"
   ]
  },
  {
   "cell_type": "code",
   "execution_count": null,
   "id": "1bc8ee08-9190-4ffe-aa71-13faaa01d342",
   "metadata": {},
   "outputs": [],
   "source": [
    "G = nx.Graph()\n",
    "G.add_edges_from([('A', 'B'), ('B', 'C'), ('C', 'D'), ('D', 'A'), ('A', 'C')])\n",
    "\n",
    "cycle = list(nx.find_cycle(G))\n",
    "print(f\"Detected cycle: {cycle}\")\n",
    "\n",
    "pos = nx.spring_layout(G)\n",
    "nx.draw(G, pos, with_labels=True, node_color='lightgreen', node_size=1500, edge_color='black')\n",
    "\n",
    "cycle_edges = [(cycle[i][0], cycle[i][1]) for i in range(len(cycle))]\n",
    "nx.draw_networkx_edges(G, pos, edgelist=cycle_edges, width=3, edge_color='red')\n",
    "plt.show()\n"
   ]
  },
  {
   "cell_type": "markdown",
   "id": "8b881248",
   "metadata": {},
   "source": [
    "### what is the problem here??"
   ]
  },
  {
   "cell_type": "markdown",
   "id": "15a4d822-c204-47fb-aef4-3561fb3a61fa",
   "metadata": {},
   "source": [
    "### Graph Degree and Adjacency Matrix\n",
    "\n",
    "You can compute the degree of nodes and the adjacency matrix to build a network.\n"
   ]
  },
  {
   "cell_type": "markdown",
   "id": "76fb0af2-752a-486f-a9d8-9bbc9fafb750",
   "metadata": {},
   "source": [
    "![Network Diagram](ad.png)\n"
   ]
  },
  {
   "cell_type": "code",
   "execution_count": null,
   "id": "5c967cd1-4b7a-453e-a585-0ac1530735f7",
   "metadata": {},
   "outputs": [],
   "source": [
    "G = nx.Graph()\n",
    "G.add_edges_from([('A', 'B'), ('B', 'C'), ('C', 'D'), ('D', 'A')])\n",
    "degree = dict(G.degree())\n",
    "print(\"Node degrees:\", degree)\n",
    "\n",
    "adj_matrix = nx.adjacency_matrix(G)\n",
    "print(\"Adjacency matrix:\\n\", adj_matrix.todense())\n"
   ]
  },
  {
   "cell_type": "code",
   "execution_count": 19,
   "id": "fa752a74",
   "metadata": {},
   "outputs": [],
   "source": [
    "\n",
    "G = nx.Graph()\n",
    "G.add_edge('A', 'B', relation='Friend', weight=18)\n",
    "G.add_edge('B', 'C', relation='Coworker', weight=21)\n",
    "G.add_edge('C', 'D', relation='Family', weight=25)\n",
    "G.add_edge('C', 'E', relation='Neighbor', weight=10)\n",
    "G.add_edge('E', 'D', relation='Friend', weight=2)\n",
    "G.add_edge('E', 'F', relation='Coworker', weight=10)\n",
    "G.add_edge('F', 'G', relation='Friend', weight=9)\n",
    "G.add_edge('I', 'E', relation='Family', weight=10)\n",
    "G.add_edge('H', 'E', relation='Coworker', weight=15)\n",
    "G.add_edge('I', 'J', relation='Neighbor', weight=3)\n",
    "G.add_edge('J', 'H', relation='Friend', weight=3)\n"
   ]
  },
  {
   "cell_type": "markdown",
   "id": "ea3985b3",
   "metadata": {},
   "source": [
    "### calculate the node degrees and adjacency matrix of G"
   ]
  },
  {
   "cell_type": "code",
   "execution_count": null,
   "id": "9bdefa06",
   "metadata": {},
   "outputs": [],
   "source": []
  },
  {
   "cell_type": "markdown",
   "id": "a033e631-8de7-40b0-8088-52c5f634bb83",
   "metadata": {},
   "source": [
    "### Thank you for your attention!\n"
   ]
  }
 ],
 "metadata": {
  "kernelspec": {
   "display_name": "Python 3",
   "language": "python",
   "name": "python3"
  },
  "language_info": {
   "codemirror_mode": {
    "name": "ipython",
    "version": 3
   },
   "file_extension": ".py",
   "mimetype": "text/x-python",
   "name": "python",
   "nbconvert_exporter": "python",
   "pygments_lexer": "ipython3",
   "version": "3.12.3"
  }
 },
 "nbformat": 4,
 "nbformat_minor": 5
}
